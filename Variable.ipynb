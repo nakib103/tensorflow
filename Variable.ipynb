{
  "nbformat": 4,
  "nbformat_minor": 0,
  "metadata": {
    "colab": {
      "name": "Variable.ipynb",
      "provenance": [],
      "collapsed_sections": [],
      "authorship_tag": "ABX9TyPdBKstDrMLoMo+VJWhNabS",
      "include_colab_link": true
    },
    "kernelspec": {
      "name": "python3",
      "display_name": "Python 3"
    }
  },
  "cells": [
    {
      "cell_type": "markdown",
      "metadata": {
        "id": "view-in-github",
        "colab_type": "text"
      },
      "source": [
        "<a href=\"https://colab.research.google.com/github/nakib103/tensorflow/blob/master/Variable.ipynb\" target=\"_parent\"><img src=\"https://colab.research.google.com/assets/colab-badge.svg\" alt=\"Open In Colab\"/></a>"
      ]
    },
    {
      "cell_type": "code",
      "metadata": {
        "id": "MjU4AlBGr1K7",
        "colab_type": "code",
        "colab": {}
      },
      "source": [
        "import tensorflow as tf\n",
        "# tf.debugging.set_log_device_placement(True)"
      ],
      "execution_count": 5,
      "outputs": []
    },
    {
      "cell_type": "code",
      "metadata": {
        "id": "Tv5TgF9_sE9F",
        "colab_type": "code",
        "colab": {
          "base_uri": "https://localhost:8080/",
          "height": 68
        },
        "outputId": "8322dbb3-1cec-4747-fb09-1f9bcdb185d4"
      },
      "source": [
        "# Variables are created and tracked via the tf.Variable class\n",
        "# A tf.Variable represents a tensor whose value can be changed by running ops on it.\n",
        "\n",
        "a = tf.Variable([3, 2, 4])\n",
        "print(a)"
      ],
      "execution_count": 9,
      "outputs": [
        {
          "output_type": "stream",
          "text": [
            "Executing op ReadVariableOp in device /job:localhost/replica:0/task:0/device:CPU:0\n",
            "Executing op Identity in device /job:localhost/replica:0/task:0/device:CPU:0\n",
            "<tf.Variable 'Variable:0' shape=(3,) dtype=int32, numpy=array([3, 2, 4], dtype=int32)>\n"
          ],
          "name": "stdout"
        }
      ]
    },
    {
      "cell_type": "code",
      "metadata": {
        "id": "rdeyXdv9tWg2",
        "colab_type": "code",
        "colab": {
          "base_uri": "https://localhost:8080/",
          "height": 102
        },
        "outputId": "72a97f24-4eb1-4510-d9c1-2f9b62dd7275"
      },
      "source": [
        "a = tf.Variable([[1., 4.]])\n",
        "\n",
        "try:\n",
        "  a[0, 0] = 8.\n",
        "except Exception as e:\n",
        "  print(type(e).__name__, e)\n",
        "\n",
        "a.assign([[3., 5.]])\n",
        "print(a)\n",
        "a.assign_add([[1., -7.]])\n",
        "print(a)\n",
        "\n",
        "try:\n",
        "  a.assign([2., 3.])\n",
        "except Exception as e:\n",
        "  print(type(e).__name__, e)"
      ],
      "execution_count": 15,
      "outputs": [
        {
          "output_type": "stream",
          "text": [
            "TypeError 'ResourceVariable' object does not support item assignment\n",
            "<tf.Variable 'Variable:0' shape=(1, 2) dtype=float32, numpy=array([[3., 5.]], dtype=float32)>\n",
            "Executing op AssignAddVariableOp in device /job:localhost/replica:0/task:0/device:CPU:0\n",
            "<tf.Variable 'Variable:0' shape=(1, 2) dtype=float32, numpy=array([[ 4., -2.]], dtype=float32)>\n",
            "ValueError Shapes (1, 2) and (2,) are incompatible\n"
          ],
          "name": "stdout"
        }
      ]
    },
    {
      "cell_type": "code",
      "metadata": {
        "id": "cvd18pLvv0u9",
        "colab_type": "code",
        "colab": {
          "base_uri": "https://localhost:8080/",
          "height": 51
        },
        "outputId": "6932b0df-c0d0-4232-d35b-1ab4b1f649f5"
      },
      "source": [
        "# Variables can also be named which can help you track and debug them.\n",
        "a = tf.Variable([3., 4.], name=\"mine\")\n",
        "print(a)\n",
        "\n",
        "# variable can be set as non-trainable, i.e, it's gradient will be turn off\n",
        "b = tf.Variable([3., 4.], trainable=False)\n",
        "with tf.GradientTape() as tape:\n",
        "  a = b * b\n",
        "\n",
        "print(tape.gradient(a, b))"
      ],
      "execution_count": 25,
      "outputs": [
        {
          "output_type": "stream",
          "text": [
            "<tf.Variable 'mine:0' shape=(2,) dtype=float32, numpy=array([3., 4.], dtype=float32)>\n",
            "None\n"
          ],
          "name": "stdout"
        }
      ]
    },
    {
      "cell_type": "code",
      "metadata": {
        "id": "RJPoZ2ezx6UJ",
        "colab_type": "code",
        "colab": {
          "base_uri": "https://localhost:8080/",
          "height": 68
        },
        "outputId": "f101808f-6cf4-4e39-a40b-deb023ed5f47"
      },
      "source": [
        "# we can set where variable is placed\n",
        "with tf.device('CPU:0'):\n",
        "  # Create some tensors\n",
        "  a = tf.Variable([[1.0, 2.0, 3.0], [4.0, 5.0, 6.0]])\n",
        "  b = tf.constant([[1.0, 2.0], [3.0, 4.0], [5.0, 6.0]])\n",
        "\n",
        "with tf.device('GPU:0'):\n",
        "  c = tf.matmul(a, b)\n",
        "\n",
        "print(c)"
      ],
      "execution_count": 29,
      "outputs": [
        {
          "output_type": "stream",
          "text": [
            "tf.Tensor(\n",
            "[[22. 28.]\n",
            " [49. 64.]], shape=(2, 2), dtype=float32)\n"
          ],
          "name": "stdout"
        }
      ]
    }
  ]
}