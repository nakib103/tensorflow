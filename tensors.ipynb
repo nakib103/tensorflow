{
  "nbformat": 4,
  "nbformat_minor": 0,
  "metadata": {
    "colab": {
      "name": "tensors.ipynb",
      "provenance": [],
      "authorship_tag": "ABX9TyPKtZTS40ta/p5kB/Fz4ttt",
      "include_colab_link": true
    },
    "kernelspec": {
      "name": "python3",
      "display_name": "Python 3"
    }
  },
  "cells": [
    {
      "cell_type": "markdown",
      "metadata": {
        "id": "view-in-github",
        "colab_type": "text"
      },
      "source": [
        "<a href=\"https://colab.research.google.com/github/nakib103/tensorflow/blob/master/tensors.ipynb\" target=\"_parent\"><img src=\"https://colab.research.google.com/assets/colab-badge.svg\" alt=\"Open In Colab\"/></a>"
      ]
    },
    {
      "cell_type": "code",
      "metadata": {
        "id": "oMns-EL47vKp",
        "colab_type": "code",
        "colab": {
          "base_uri": "https://localhost:8080/",
          "height": 34
        },
        "outputId": "1a34361f-084b-4054-bd19-921f3b7924de"
      },
      "source": [
        "import tensorflow as tf\n",
        "import numpy as np\n",
        "\n",
        "print(tf.__version__)"
      ],
      "execution_count": null,
      "outputs": [
        {
          "output_type": "stream",
          "text": [
            "2.2.0\n"
          ],
          "name": "stdout"
        }
      ]
    },
    {
      "cell_type": "code",
      "metadata": {
        "id": "4LXF2aIr7_XT",
        "colab_type": "code",
        "colab": {}
      },
      "source": [
        "# tensors are immutable multi-dimentional array with uniform dtypes\n",
        "help(tf.dtypes.DType)"
      ],
      "execution_count": null,
      "outputs": []
    },
    {
      "cell_type": "code",
      "metadata": {
        "id": "tPyBHdHr8q2s",
        "colab_type": "code",
        "colab": {
          "base_uri": "https://localhost:8080/",
          "height": 204
        },
        "outputId": "b9447806-ba24-4664-978d-c83a5734d596"
      },
      "source": [
        "# different rank of tensors\n",
        "print(tf.constant(0))\n",
        "print(tf.constant([1., 2., 3.]))\n",
        "print(tf.constant([[1., 2.],\n",
        "                   [3., 4.]]))\n",
        "print(tf.constant([[[1., 2.],\n",
        "                   [3., 4.]],\n",
        "                  \n",
        "                  [[6., 7.],\n",
        "                   [8., 9.]]]))"
      ],
      "execution_count": null,
      "outputs": [
        {
          "output_type": "stream",
          "text": [
            "tf.Tensor(0, shape=(), dtype=int32)\n",
            "tf.Tensor([1. 2. 3.], shape=(3,), dtype=float32)\n",
            "tf.Tensor(\n",
            "[[1. 2.]\n",
            " [3. 4.]], shape=(2, 2), dtype=float32)\n",
            "tf.Tensor(\n",
            "[[[1. 2.]\n",
            "  [3. 4.]]\n",
            "\n",
            " [[6. 7.]\n",
            "  [8. 9.]]], shape=(2, 2, 2), dtype=float32)\n"
          ],
          "name": "stdout"
        }
      ]
    },
    {
      "cell_type": "code",
      "metadata": {
        "id": "zwPrRj-l908O",
        "colab_type": "code",
        "colab": {
          "base_uri": "https://localhost:8080/",
          "height": 85
        },
        "outputId": "8c32f9a7-240d-4161-96ab-8fe3903343f9"
      },
      "source": [
        "# converting a tensor to numpy array\n",
        "a = tf.constant([[1., 2.],\n",
        "                 [3., 4.]])\n",
        "b = np.array(a)\n",
        "print(type(b), b)\n",
        "\n",
        "c = a.numpy()\n",
        "print(type(c), c)"
      ],
      "execution_count": null,
      "outputs": [
        {
          "output_type": "stream",
          "text": [
            "<class 'numpy.ndarray'> [[1. 2.]\n",
            " [3. 4.]]\n",
            "<class 'numpy.ndarray'> [[1. 2.]\n",
            " [3. 4.]]\n"
          ],
          "name": "stdout"
        }
      ]
    },
    {
      "cell_type": "code",
      "metadata": {
        "id": "LB_PO1A5-W9c",
        "colab_type": "code",
        "colab": {
          "base_uri": "https://localhost:8080/",
          "height": 34
        },
        "outputId": "ca5d1fc5-42af-404e-cd08-3f6f34b5e352"
      },
      "source": [
        "# tensor dtype can be string, complex number etc. also\n",
        "tf.constant(\"hello\")"
      ],
      "execution_count": null,
      "outputs": [
        {
          "output_type": "execute_result",
          "data": {
            "text/plain": [
              "<tf.Tensor: shape=(), dtype=string, numpy=b'1+i5'>"
            ]
          },
          "metadata": {
            "tags": []
          },
          "execution_count": 13
        }
      ]
    },
    {
      "cell_type": "code",
      "metadata": {
        "id": "5UwS1RQG-12V",
        "colab_type": "code",
        "colab": {
          "base_uri": "https://localhost:8080/",
          "height": 170
        },
        "outputId": "fb399609-1bcf-4df1-fb6c-29bcf1ed0de9"
      },
      "source": [
        "# tensor operations: addition, element-wise multiplication, matrix multiplication\n",
        "a = tf.constant([[1., 3.],\n",
        "                 [4., 2.]])\n",
        "\n",
        "b = tf.constant([[5., 2.],\n",
        "                 [8., 3.]])\n",
        "\n",
        "print(tf.math.add(a, b))\n",
        "print(tf.multiply(a, b))\n",
        "print(tf.matmul(a, b))"
      ],
      "execution_count": null,
      "outputs": [
        {
          "output_type": "stream",
          "text": [
            "tf.Tensor(\n",
            "[[ 6.  5.]\n",
            " [12.  5.]], shape=(2, 2), dtype=float32)\n",
            "tf.Tensor(\n",
            "[[ 5.  6.]\n",
            " [32.  6.]], shape=(2, 2), dtype=float32)\n",
            "tf.Tensor(\n",
            "[[29. 11.]\n",
            " [36. 14.]], shape=(2, 2), dtype=float32)\n"
          ],
          "name": "stdout"
        }
      ]
    },
    {
      "cell_type": "code",
      "metadata": {
        "id": "VVGQz0qr_iOZ",
        "colab_type": "code",
        "colab": {
          "base_uri": "https://localhost:8080/",
          "height": 51
        },
        "outputId": "aeb9d22d-e65c-4087-b950-a649433c16aa"
      },
      "source": [
        "# some other operations\n",
        "c = tf.constant([[4.0, 5.0], [10.0, 1.0]])\n",
        "print(tf.reduce_max(c))\n",
        "print(tf.argmax(c))"
      ],
      "execution_count": null,
      "outputs": [
        {
          "output_type": "stream",
          "text": [
            "tf.Tensor(10.0, shape=(), dtype=float32)\n",
            "tf.Tensor([1 0], shape=(2,), dtype=int64)\n"
          ],
          "name": "stdout"
        }
      ]
    },
    {
      "cell_type": "code",
      "metadata": {
        "id": "Ayk1Izs7CKpF",
        "colab_type": "code",
        "colab": {
          "base_uri": "https://localhost:8080/",
          "height": 51
        },
        "outputId": "d504e421-b66a-49f9-d045-9f0ad8d4320f"
      },
      "source": [
        "# indexing same as python\n",
        "\n",
        "c = tf.constant([1., 3., 7., 10.])\n",
        "\n",
        "# indexing with scalar removes dimention\n",
        "print(c[0].numpy())\n",
        "\n",
        "# indexing with : removes dimention\n",
        "print(c[0:1,].numpy())"
      ],
      "execution_count": null,
      "outputs": [
        {
          "output_type": "stream",
          "text": [
            "1.0\n",
            "[1.]\n"
          ],
          "name": "stdout"
        }
      ]
    },
    {
      "cell_type": "code",
      "metadata": {
        "id": "Gpw25BzSCrOg",
        "colab_type": "code",
        "colab": {
          "base_uri": "https://localhost:8080/",
          "height": 34
        },
        "outputId": "1bd1a88a-e493-46ee-bf86-fb5e4f2910bf"
      },
      "source": [
        "# The tf.reshape operation is fast and cheap as the underlying data does not need to be duplicated.\n",
        "c = tf.constant([[1., 5.],\n",
        "                 [4., 9.]])\n",
        "d = tf.reshape(c, [1, 4])\n",
        "print(d)"
      ],
      "execution_count": null,
      "outputs": [
        {
          "output_type": "stream",
          "text": [
            "tf.Tensor([[1. 5. 4. 9.]], shape=(1, 4), dtype=float32)\n"
          ],
          "name": "stdout"
        }
      ]
    }
  ]
}